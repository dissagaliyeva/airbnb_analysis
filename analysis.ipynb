{
 "cells": [
  {
   "cell_type": "markdown",
   "source": [
    "# Airbnb Seattle 2016"
   ],
   "metadata": {
    "collapsed": false
   }
  },
  {
   "cell_type": "code",
   "execution_count": 27,
   "metadata": {
    "collapsed": true
   },
   "outputs": [],
   "source": [
    "import numpy as np\n",
    "import pandas as pd\n",
    "import seaborn as sns\n",
    "import matplotlib.pyplot as plt\n",
    "\n",
    "from datetime import datetime\n",
    "import missingno as msno\n",
    "\n",
    "import warnings\n",
    "warnings.filterwarnings('ignore')\n",
    "\n",
    "\n",
    "sns.set()\n",
    "plt.rcParams[\"figure.figsize\"] = (9, 5)\n"
   ]
  },
  {
   "cell_type": "code",
   "execution_count": 20,
   "outputs": [
    {
     "name": "stdout",
     "output_type": "stream",
     "text": [
      "Calendar dataset shape: (1393570, 4)\n",
      "Listings dataset shape: (3818, 92)\n",
      "Reviews  dataset shape: (84849, 6)\n"
     ]
    }
   ],
   "source": [
    "calendar = pd.read_csv('data/calendar.csv', parse_dates=['date'])\n",
    "listings = pd.read_csv('data/listings.csv', parse_dates=['host_since'])\n",
    "reviews  = pd.read_csv('data/reviews.csv', parse_dates=['date'])\n",
    "\n",
    "print(f'Calendar dataset shape: {calendar.shape}')\n",
    "print(f'Listings dataset shape: {listings.shape}')\n",
    "print(f'Reviews  dataset shape: {reviews.shape}')"
   ],
   "metadata": {
    "collapsed": false,
    "pycharm": {
     "name": "#%%\n"
    }
   }
  },
  {
   "cell_type": "markdown",
   "source": [
    "### Listings dataset"
   ],
   "metadata": {
    "collapsed": false
   }
  },
  {
   "cell_type": "code",
   "execution_count": 21,
   "outputs": [
    {
     "data": {
      "text/plain": "Index(['id', 'listing_url', 'scrape_id', 'last_scraped', 'name', 'summary',\n       'space', 'description', 'experiences_offered', 'neighborhood_overview',\n       'notes', 'transit', 'thumbnail_url', 'medium_url', 'picture_url',\n       'xl_picture_url', 'host_id', 'host_url', 'host_name', 'host_since',\n       'host_location', 'host_about', 'host_response_time',\n       'host_response_rate', 'host_acceptance_rate', 'host_is_superhost',\n       'host_thumbnail_url', 'host_picture_url', 'host_neighbourhood',\n       'host_listings_count', 'host_total_listings_count',\n       'host_verifications', 'host_has_profile_pic', 'host_identity_verified',\n       'street', 'neighbourhood', 'neighbourhood_cleansed',\n       'neighbourhood_group_cleansed', 'city', 'state', 'zipcode', 'market',\n       'smart_location', 'country_code', 'country', 'latitude', 'longitude',\n       'is_location_exact', 'property_type', 'room_type', 'accommodates',\n       'bathrooms', 'bedrooms', 'beds', 'bed_type', 'amenities', 'square_feet',\n       'price', 'weekly_price', 'monthly_price', 'security_deposit',\n       'cleaning_fee', 'guests_included', 'extra_people', 'minimum_nights',\n       'maximum_nights', 'calendar_updated', 'has_availability',\n       'availability_30', 'availability_60', 'availability_90',\n       'availability_365', 'calendar_last_scraped', 'number_of_reviews',\n       'first_review', 'last_review', 'review_scores_rating',\n       'review_scores_accuracy', 'review_scores_cleanliness',\n       'review_scores_checkin', 'review_scores_communication',\n       'review_scores_location', 'review_scores_value', 'requires_license',\n       'license', 'jurisdiction_names', 'instant_bookable',\n       'cancellation_policy', 'require_guest_profile_picture',\n       'require_guest_phone_verification', 'calculated_host_listings_count',\n       'reviews_per_month'],\n      dtype='object')"
     },
     "execution_count": 21,
     "metadata": {},
     "output_type": "execute_result"
    }
   ],
   "source": [
    "listings.columns"
   ],
   "metadata": {
    "collapsed": false,
    "pycharm": {
     "name": "#%%\n"
    }
   }
  },
  {
   "cell_type": "code",
   "execution_count": 22,
   "outputs": [
    {
     "name": "stdout",
     "output_type": "stream",
     "text": [
      "<class 'pandas.core.frame.DataFrame'>\n",
      "RangeIndex: 3818 entries, 0 to 3817\n",
      "Data columns (total 92 columns):\n",
      " #   Column                            Non-Null Count  Dtype         \n",
      "---  ------                            --------------  -----         \n",
      " 0   id                                3818 non-null   int64         \n",
      " 1   listing_url                       3818 non-null   object        \n",
      " 2   scrape_id                         3818 non-null   int64         \n",
      " 3   last_scraped                      3818 non-null   object        \n",
      " 4   name                              3818 non-null   object        \n",
      " 5   summary                           3641 non-null   object        \n",
      " 6   space                             3249 non-null   object        \n",
      " 7   description                       3818 non-null   object        \n",
      " 8   experiences_offered               3818 non-null   object        \n",
      " 9   neighborhood_overview             2786 non-null   object        \n",
      " 10  notes                             2212 non-null   object        \n",
      " 11  transit                           2884 non-null   object        \n",
      " 12  thumbnail_url                     3498 non-null   object        \n",
      " 13  medium_url                        3498 non-null   object        \n",
      " 14  picture_url                       3818 non-null   object        \n",
      " 15  xl_picture_url                    3498 non-null   object        \n",
      " 16  host_id                           3818 non-null   int64         \n",
      " 17  host_url                          3818 non-null   object        \n",
      " 18  host_name                         3816 non-null   object        \n",
      " 19  host_since                        3816 non-null   datetime64[ns]\n",
      " 20  host_location                     3810 non-null   object        \n",
      " 21  host_about                        2959 non-null   object        \n",
      " 22  host_response_time                3295 non-null   object        \n",
      " 23  host_response_rate                3295 non-null   object        \n",
      " 24  host_acceptance_rate              3045 non-null   object        \n",
      " 25  host_is_superhost                 3816 non-null   object        \n",
      " 26  host_thumbnail_url                3816 non-null   object        \n",
      " 27  host_picture_url                  3816 non-null   object        \n",
      " 28  host_neighbourhood                3518 non-null   object        \n",
      " 29  host_listings_count               3816 non-null   float64       \n",
      " 30  host_total_listings_count         3816 non-null   float64       \n",
      " 31  host_verifications                3818 non-null   object        \n",
      " 32  host_has_profile_pic              3816 non-null   object        \n",
      " 33  host_identity_verified            3816 non-null   object        \n",
      " 34  street                            3818 non-null   object        \n",
      " 35  neighbourhood                     3402 non-null   object        \n",
      " 36  neighbourhood_cleansed            3818 non-null   object        \n",
      " 37  neighbourhood_group_cleansed      3818 non-null   object        \n",
      " 38  city                              3818 non-null   object        \n",
      " 39  state                             3818 non-null   object        \n",
      " 40  zipcode                           3811 non-null   object        \n",
      " 41  market                            3818 non-null   object        \n",
      " 42  smart_location                    3818 non-null   object        \n",
      " 43  country_code                      3818 non-null   object        \n",
      " 44  country                           3818 non-null   object        \n",
      " 45  latitude                          3818 non-null   float64       \n",
      " 46  longitude                         3818 non-null   float64       \n",
      " 47  is_location_exact                 3818 non-null   object        \n",
      " 48  property_type                     3817 non-null   object        \n",
      " 49  room_type                         3818 non-null   object        \n",
      " 50  accommodates                      3818 non-null   int64         \n",
      " 51  bathrooms                         3802 non-null   float64       \n",
      " 52  bedrooms                          3812 non-null   float64       \n",
      " 53  beds                              3817 non-null   float64       \n",
      " 54  bed_type                          3818 non-null   object        \n",
      " 55  amenities                         3818 non-null   object        \n",
      " 56  square_feet                       97 non-null     float64       \n",
      " 57  price                             3818 non-null   object        \n",
      " 58  weekly_price                      2009 non-null   object        \n",
      " 59  monthly_price                     1517 non-null   object        \n",
      " 60  security_deposit                  1866 non-null   object        \n",
      " 61  cleaning_fee                      2788 non-null   object        \n",
      " 62  guests_included                   3818 non-null   int64         \n",
      " 63  extra_people                      3818 non-null   object        \n",
      " 64  minimum_nights                    3818 non-null   int64         \n",
      " 65  maximum_nights                    3818 non-null   int64         \n",
      " 66  calendar_updated                  3818 non-null   object        \n",
      " 67  has_availability                  3818 non-null   object        \n",
      " 68  availability_30                   3818 non-null   int64         \n",
      " 69  availability_60                   3818 non-null   int64         \n",
      " 70  availability_90                   3818 non-null   int64         \n",
      " 71  availability_365                  3818 non-null   int64         \n",
      " 72  calendar_last_scraped             3818 non-null   object        \n",
      " 73  number_of_reviews                 3818 non-null   int64         \n",
      " 74  first_review                      3191 non-null   object        \n",
      " 75  last_review                       3191 non-null   object        \n",
      " 76  review_scores_rating              3171 non-null   float64       \n",
      " 77  review_scores_accuracy            3160 non-null   float64       \n",
      " 78  review_scores_cleanliness         3165 non-null   float64       \n",
      " 79  review_scores_checkin             3160 non-null   float64       \n",
      " 80  review_scores_communication       3167 non-null   float64       \n",
      " 81  review_scores_location            3163 non-null   float64       \n",
      " 82  review_scores_value               3162 non-null   float64       \n",
      " 83  requires_license                  3818 non-null   object        \n",
      " 84  license                           0 non-null      float64       \n",
      " 85  jurisdiction_names                3818 non-null   object        \n",
      " 86  instant_bookable                  3818 non-null   object        \n",
      " 87  cancellation_policy               3818 non-null   object        \n",
      " 88  require_guest_profile_picture     3818 non-null   object        \n",
      " 89  require_guest_phone_verification  3818 non-null   object        \n",
      " 90  calculated_host_listings_count    3818 non-null   int64         \n",
      " 91  reviews_per_month                 3191 non-null   float64       \n",
      "dtypes: datetime64[ns](1), float64(17), int64(13), object(61)\n",
      "memory usage: 2.7+ MB\n"
     ]
    }
   ],
   "source": [
    "listings.info()"
   ],
   "metadata": {
    "collapsed": false,
    "pycharm": {
     "name": "#%%\n"
    }
   }
  },
  {
   "cell_type": "code",
   "execution_count": 23,
   "outputs": [
    {
     "name": "stdout",
     "output_type": "stream",
     "text": [
      "Number of super-hosts: 778\n",
      "Number of not super-hosts: 3038\n"
     ]
    }
   ],
   "source": [
    "super_hosts     = listings[listings['host_is_superhost'] == 't']\n",
    "not_super_hosts = listings[listings['host_is_superhost'] == 'f']\n",
    "\n",
    "print(f'Number of super-hosts: {len(super_hosts)}')\n",
    "print(f'Number of not super-hosts: {len(not_super_hosts)}')"
   ],
   "metadata": {
    "collapsed": false,
    "pycharm": {
     "name": "#%%\n"
    }
   }
  },
  {
   "cell_type": "markdown",
   "source": [
    "### Are the missing columns a thing? Do super-hosts have everything filled out?"
   ],
   "metadata": {
    "collapsed": false
   }
  },
  {
   "cell_type": "code",
   "execution_count": 24,
   "outputs": [
    {
     "data": {
      "text/plain": "id                                   0\nlisting_url                          0\nscrape_id                            0\nlast_scraped                         0\nname                                 0\n                                    ..\ncancellation_policy                  0\nrequire_guest_profile_picture        0\nrequire_guest_phone_verification     0\ncalculated_host_listings_count       0\nreviews_per_month                   27\nLength: 92, dtype: int64"
     },
     "execution_count": 24,
     "metadata": {},
     "output_type": "execute_result"
    }
   ],
   "source": [
    "super_hosts.isna().sum()"
   ],
   "metadata": {
    "collapsed": false,
    "pycharm": {
     "name": "#%%\n"
    }
   }
  },
  {
   "cell_type": "code",
   "execution_count": 18,
   "outputs": [
    {
     "data": {
      "text/plain": "           id                           listing_url       scrape_id  \\\n1      953595   https://www.airbnb.com/rooms/953595  20160104002432   \n6     1909058  https://www.airbnb.com/rooms/1909058  20160104002432   \n7      856550   https://www.airbnb.com/rooms/856550  20160104002432   \n9     2493658  https://www.airbnb.com/rooms/2493658  20160104002432   \n10     175576   https://www.airbnb.com/rooms/175576  20160104002432   \n...       ...                                   ...             ...   \n3796   609701   https://www.airbnb.com/rooms/609701  20160104002432   \n3801  4524575  https://www.airbnb.com/rooms/4524575  20160104002432   \n3804  7178490  https://www.airbnb.com/rooms/7178490  20160104002432   \n3806  5458027  https://www.airbnb.com/rooms/5458027  20160104002432   \n3812  3383329  https://www.airbnb.com/rooms/3383329  20160104002432   \n\n     last_scraped                                 name  \\\n1      2016-01-04   Bright & Airy Queen Anne Apartment   \n6      2016-01-04      Queen Anne Private Bed and Bath   \n7      2016-01-04    Tiny Garden cabin on Queen Anne     \n9      2016-01-04   Airy + Bright Queen Anne Apartment   \n10     2016-01-04  Private Apartment - Queen Anne Hill   \n...           ...                                  ...   \n3796   2016-01-04      Charming Fremont Garden Cottage   \n3801   2016-01-04        Comfortable Fremont Apartment   \n3804   2016-01-04  Cedar House Studio Suite in Fremont   \n3806   2016-01-04     Sunny Charm in Urban Cottage 2BD   \n3812   2016-01-04  OF THE TREE & CLOUDS. KID FRIENDLY!   \n\n                                                summary  \\\n1     Chemically sensitive? We've removed the irrita...   \n6     Enjoy a quiet stay in our comfortable 1915 Cra...   \n7     Our tiny cabin is private , very quiet and com...   \n9     Beautiful apartment in an extremely safe, quie...   \n10    Queen Anne Hill is a charming neighborhood wit...   \n...                                                 ...   \n3796  Enjoy the excitement of Seattle and city life ...   \n3801  This lovely apartment is located on the lower ...   \n3804  Comfortable and clean, this lower level suite ...   \n3806  Charming urban home with rustic cottage feel. ...   \n3812  Of the Tree & Clouds' \"Roots\" apartment is 8 b...   \n\n                                                  space  \\\n1     Beautiful, hypoallergenic apartment in an extr...   \n6     Enjoy a quiet stay in our comfortable 1915 Cra...   \n7      This cabin was built with Airbnb in mind, Que...   \n9     What's special about this place? A beautiful r...   \n10    Be close to everything!  Queen Anne Hill is a ...   \n...                                                 ...   \n3796  Charming and pristine pied-a-terre in the mids...   \n3801  Our recently renovated apartment is perfect fo...   \n3804  A lush, private garden path leads to the entra...   \n3806                                                NaN   \n3812  The 1-bedroom, ground-floor Roots apartment is...   \n\n                                            description experiences_offered  \\\n1     Chemically sensitive? We've removed the irrita...                none   \n6     Enjoy a quiet stay in our comfortable 1915 Cra...                none   \n7     Our tiny cabin is private , very quiet and com...                none   \n9     Beautiful apartment in an extremely safe, quie...                none   \n10    Queen Anne Hill is a charming neighborhood wit...                none   \n...                                                 ...                 ...   \n3796  Enjoy the excitement of Seattle and city life ...                none   \n3801  This lovely apartment is located on the lower ...                none   \n3804  Comfortable and clean, this lower level suite ...                none   \n3806  Charming urban home with rustic cottage feel. ...                none   \n3812  Of the Tree & Clouds' \"Roots\" apartment is 8 b...                none   \n\n                                  neighborhood_overview  ...  \\\n1     Queen Anne is a wonderful, truly functional vi...  ...   \n6     Close restaurants, coffee shops and grocery st...  ...   \n7     We are centrally located between Downtown and ...  ...   \n9     Queen Anne is a wonderful, truly functional vi...  ...   \n10    Queen Anne Hill is a wonderful and historic ar...  ...   \n...                                                 ...  ...   \n3796  FREMONT is such a fun neighborhood with lot's ...  ...   \n3801  Fremont is centrally located within the city a...  ...   \n3804  Upper Fremont is a vibrant neighborhood that o...  ...   \n3806                                                NaN  ...   \n3812  It's taken me a while to figure out why Fremon...  ...   \n\n     review_scores_value requires_license license jurisdiction_names  \\\n1                   10.0                f     NaN         WASHINGTON   \n6                   10.0                f     NaN         WASHINGTON   \n7                   10.0                f     NaN         WASHINGTON   \n9                    9.0                f     NaN         WASHINGTON   \n10                  10.0                f     NaN         WASHINGTON   \n...                  ...              ...     ...                ...   \n3796                10.0                f     NaN         WASHINGTON   \n3801                10.0                f     NaN         WASHINGTON   \n3804                10.0                f     NaN         WASHINGTON   \n3806                10.0                f     NaN         WASHINGTON   \n3812                10.0                f     NaN         WASHINGTON   \n\n     instant_bookable cancellation_policy  require_guest_profile_picture  \\\n1                   f              strict                              t   \n6                   f            moderate                              f   \n7                   f              strict                              t   \n9                   f              strict                              t   \n10                  f            moderate                              t   \n...               ...                 ...                            ...   \n3796                t            moderate                              f   \n3801                f            moderate                              f   \n3804                f              strict                              f   \n3806                f            flexible                              f   \n3812                t            moderate                              t   \n\n     require_guest_phone_verification calculated_host_listings_count  \\\n1                                   t                              6   \n6                                   f                              1   \n7                                   t                              5   \n9                                   t                              6   \n10                                  f                              1   \n...                               ...                            ...   \n3796                                f                              1   \n3801                                f                              1   \n3804                                f                              1   \n3806                                f                              2   \n3812                                t                              3   \n\n     reviews_per_month  \n1                 1.48  \n6                 2.46  \n7                 4.73  \n9                 1.55  \n10                3.33  \n...                ...  \n3796              5.57  \n3801              2.05  \n3804              2.34  \n3806              0.24  \n3812              4.01  \n\n[778 rows x 92 columns]",
      "text/html": "<div>\n<style scoped>\n    .dataframe tbody tr th:only-of-type {\n        vertical-align: middle;\n    }\n\n    .dataframe tbody tr th {\n        vertical-align: top;\n    }\n\n    .dataframe thead th {\n        text-align: right;\n    }\n</style>\n<table border=\"1\" class=\"dataframe\">\n  <thead>\n    <tr style=\"text-align: right;\">\n      <th></th>\n      <th>id</th>\n      <th>listing_url</th>\n      <th>scrape_id</th>\n      <th>last_scraped</th>\n      <th>name</th>\n      <th>summary</th>\n      <th>space</th>\n      <th>description</th>\n      <th>experiences_offered</th>\n      <th>neighborhood_overview</th>\n      <th>...</th>\n      <th>review_scores_value</th>\n      <th>requires_license</th>\n      <th>license</th>\n      <th>jurisdiction_names</th>\n      <th>instant_bookable</th>\n      <th>cancellation_policy</th>\n      <th>require_guest_profile_picture</th>\n      <th>require_guest_phone_verification</th>\n      <th>calculated_host_listings_count</th>\n      <th>reviews_per_month</th>\n    </tr>\n  </thead>\n  <tbody>\n    <tr>\n      <th>1</th>\n      <td>953595</td>\n      <td>https://www.airbnb.com/rooms/953595</td>\n      <td>20160104002432</td>\n      <td>2016-01-04</td>\n      <td>Bright &amp; Airy Queen Anne Apartment</td>\n      <td>Chemically sensitive? We've removed the irrita...</td>\n      <td>Beautiful, hypoallergenic apartment in an extr...</td>\n      <td>Chemically sensitive? We've removed the irrita...</td>\n      <td>none</td>\n      <td>Queen Anne is a wonderful, truly functional vi...</td>\n      <td>...</td>\n      <td>10.0</td>\n      <td>f</td>\n      <td>NaN</td>\n      <td>WASHINGTON</td>\n      <td>f</td>\n      <td>strict</td>\n      <td>t</td>\n      <td>t</td>\n      <td>6</td>\n      <td>1.48</td>\n    </tr>\n    <tr>\n      <th>6</th>\n      <td>1909058</td>\n      <td>https://www.airbnb.com/rooms/1909058</td>\n      <td>20160104002432</td>\n      <td>2016-01-04</td>\n      <td>Queen Anne Private Bed and Bath</td>\n      <td>Enjoy a quiet stay in our comfortable 1915 Cra...</td>\n      <td>Enjoy a quiet stay in our comfortable 1915 Cra...</td>\n      <td>Enjoy a quiet stay in our comfortable 1915 Cra...</td>\n      <td>none</td>\n      <td>Close restaurants, coffee shops and grocery st...</td>\n      <td>...</td>\n      <td>10.0</td>\n      <td>f</td>\n      <td>NaN</td>\n      <td>WASHINGTON</td>\n      <td>f</td>\n      <td>moderate</td>\n      <td>f</td>\n      <td>f</td>\n      <td>1</td>\n      <td>2.46</td>\n    </tr>\n    <tr>\n      <th>7</th>\n      <td>856550</td>\n      <td>https://www.airbnb.com/rooms/856550</td>\n      <td>20160104002432</td>\n      <td>2016-01-04</td>\n      <td>Tiny Garden cabin on Queen Anne</td>\n      <td>Our tiny cabin is private , very quiet and com...</td>\n      <td>This cabin was built with Airbnb in mind, Que...</td>\n      <td>Our tiny cabin is private , very quiet and com...</td>\n      <td>none</td>\n      <td>We are centrally located between Downtown and ...</td>\n      <td>...</td>\n      <td>10.0</td>\n      <td>f</td>\n      <td>NaN</td>\n      <td>WASHINGTON</td>\n      <td>f</td>\n      <td>strict</td>\n      <td>t</td>\n      <td>t</td>\n      <td>5</td>\n      <td>4.73</td>\n    </tr>\n    <tr>\n      <th>9</th>\n      <td>2493658</td>\n      <td>https://www.airbnb.com/rooms/2493658</td>\n      <td>20160104002432</td>\n      <td>2016-01-04</td>\n      <td>Airy + Bright Queen Anne Apartment</td>\n      <td>Beautiful apartment in an extremely safe, quie...</td>\n      <td>What's special about this place? A beautiful r...</td>\n      <td>Beautiful apartment in an extremely safe, quie...</td>\n      <td>none</td>\n      <td>Queen Anne is a wonderful, truly functional vi...</td>\n      <td>...</td>\n      <td>9.0</td>\n      <td>f</td>\n      <td>NaN</td>\n      <td>WASHINGTON</td>\n      <td>f</td>\n      <td>strict</td>\n      <td>t</td>\n      <td>t</td>\n      <td>6</td>\n      <td>1.55</td>\n    </tr>\n    <tr>\n      <th>10</th>\n      <td>175576</td>\n      <td>https://www.airbnb.com/rooms/175576</td>\n      <td>20160104002432</td>\n      <td>2016-01-04</td>\n      <td>Private Apartment - Queen Anne Hill</td>\n      <td>Queen Anne Hill is a charming neighborhood wit...</td>\n      <td>Be close to everything!  Queen Anne Hill is a ...</td>\n      <td>Queen Anne Hill is a charming neighborhood wit...</td>\n      <td>none</td>\n      <td>Queen Anne Hill is a wonderful and historic ar...</td>\n      <td>...</td>\n      <td>10.0</td>\n      <td>f</td>\n      <td>NaN</td>\n      <td>WASHINGTON</td>\n      <td>f</td>\n      <td>moderate</td>\n      <td>t</td>\n      <td>f</td>\n      <td>1</td>\n      <td>3.33</td>\n    </tr>\n    <tr>\n      <th>...</th>\n      <td>...</td>\n      <td>...</td>\n      <td>...</td>\n      <td>...</td>\n      <td>...</td>\n      <td>...</td>\n      <td>...</td>\n      <td>...</td>\n      <td>...</td>\n      <td>...</td>\n      <td>...</td>\n      <td>...</td>\n      <td>...</td>\n      <td>...</td>\n      <td>...</td>\n      <td>...</td>\n      <td>...</td>\n      <td>...</td>\n      <td>...</td>\n      <td>...</td>\n      <td>...</td>\n    </tr>\n    <tr>\n      <th>3796</th>\n      <td>609701</td>\n      <td>https://www.airbnb.com/rooms/609701</td>\n      <td>20160104002432</td>\n      <td>2016-01-04</td>\n      <td>Charming Fremont Garden Cottage</td>\n      <td>Enjoy the excitement of Seattle and city life ...</td>\n      <td>Charming and pristine pied-a-terre in the mids...</td>\n      <td>Enjoy the excitement of Seattle and city life ...</td>\n      <td>none</td>\n      <td>FREMONT is such a fun neighborhood with lot's ...</td>\n      <td>...</td>\n      <td>10.0</td>\n      <td>f</td>\n      <td>NaN</td>\n      <td>WASHINGTON</td>\n      <td>t</td>\n      <td>moderate</td>\n      <td>f</td>\n      <td>f</td>\n      <td>1</td>\n      <td>5.57</td>\n    </tr>\n    <tr>\n      <th>3801</th>\n      <td>4524575</td>\n      <td>https://www.airbnb.com/rooms/4524575</td>\n      <td>20160104002432</td>\n      <td>2016-01-04</td>\n      <td>Comfortable Fremont Apartment</td>\n      <td>This lovely apartment is located on the lower ...</td>\n      <td>Our recently renovated apartment is perfect fo...</td>\n      <td>This lovely apartment is located on the lower ...</td>\n      <td>none</td>\n      <td>Fremont is centrally located within the city a...</td>\n      <td>...</td>\n      <td>10.0</td>\n      <td>f</td>\n      <td>NaN</td>\n      <td>WASHINGTON</td>\n      <td>f</td>\n      <td>moderate</td>\n      <td>f</td>\n      <td>f</td>\n      <td>1</td>\n      <td>2.05</td>\n    </tr>\n    <tr>\n      <th>3804</th>\n      <td>7178490</td>\n      <td>https://www.airbnb.com/rooms/7178490</td>\n      <td>20160104002432</td>\n      <td>2016-01-04</td>\n      <td>Cedar House Studio Suite in Fremont</td>\n      <td>Comfortable and clean, this lower level suite ...</td>\n      <td>A lush, private garden path leads to the entra...</td>\n      <td>Comfortable and clean, this lower level suite ...</td>\n      <td>none</td>\n      <td>Upper Fremont is a vibrant neighborhood that o...</td>\n      <td>...</td>\n      <td>10.0</td>\n      <td>f</td>\n      <td>NaN</td>\n      <td>WASHINGTON</td>\n      <td>f</td>\n      <td>strict</td>\n      <td>f</td>\n      <td>f</td>\n      <td>1</td>\n      <td>2.34</td>\n    </tr>\n    <tr>\n      <th>3806</th>\n      <td>5458027</td>\n      <td>https://www.airbnb.com/rooms/5458027</td>\n      <td>20160104002432</td>\n      <td>2016-01-04</td>\n      <td>Sunny Charm in Urban Cottage 2BD</td>\n      <td>Charming urban home with rustic cottage feel. ...</td>\n      <td>NaN</td>\n      <td>Charming urban home with rustic cottage feel. ...</td>\n      <td>none</td>\n      <td>NaN</td>\n      <td>...</td>\n      <td>10.0</td>\n      <td>f</td>\n      <td>NaN</td>\n      <td>WASHINGTON</td>\n      <td>f</td>\n      <td>flexible</td>\n      <td>f</td>\n      <td>f</td>\n      <td>2</td>\n      <td>0.24</td>\n    </tr>\n    <tr>\n      <th>3812</th>\n      <td>3383329</td>\n      <td>https://www.airbnb.com/rooms/3383329</td>\n      <td>20160104002432</td>\n      <td>2016-01-04</td>\n      <td>OF THE TREE &amp; CLOUDS. KID FRIENDLY!</td>\n      <td>Of the Tree &amp; Clouds' \"Roots\" apartment is 8 b...</td>\n      <td>The 1-bedroom, ground-floor Roots apartment is...</td>\n      <td>Of the Tree &amp; Clouds' \"Roots\" apartment is 8 b...</td>\n      <td>none</td>\n      <td>It's taken me a while to figure out why Fremon...</td>\n      <td>...</td>\n      <td>10.0</td>\n      <td>f</td>\n      <td>NaN</td>\n      <td>WASHINGTON</td>\n      <td>t</td>\n      <td>moderate</td>\n      <td>t</td>\n      <td>t</td>\n      <td>3</td>\n      <td>4.01</td>\n    </tr>\n  </tbody>\n</table>\n<p>778 rows × 92 columns</p>\n</div>"
     },
     "execution_count": 18,
     "metadata": {},
     "output_type": "execute_result"
    }
   ],
   "source": [
    "super_hosts"
   ],
   "metadata": {
    "collapsed": false,
    "pycharm": {
     "name": "#%%\n"
    }
   }
  },
  {
   "cell_type": "code",
   "execution_count": 5,
   "outputs": [
    {
     "data": {
      "text/plain": "f    3038\nt     778\nName: host_is_superhost, dtype: int64"
     },
     "execution_count": 5,
     "metadata": {},
     "output_type": "execute_result"
    }
   ],
   "source": [
    "listings['host_is_superhost'].value_counts(normalize=True)"
   ],
   "metadata": {
    "collapsed": false,
    "pycharm": {
     "name": "#%%\n"
    }
   }
  },
  {
   "cell_type": "markdown",
   "source": [
    "## Super-hosts"
   ],
   "metadata": {
    "collapsed": false
   }
  },
  {
   "cell_type": "code",
   "execution_count": 25,
   "outputs": [
    {
     "name": "stdout",
     "output_type": "stream",
     "text": [
      "Number of unique hosts: 537\n"
     ]
    }
   ],
   "source": [
    "super_hosts = super_hosts[['host_id', 'host_since', 'host_about', 'host_response_rate', 'host_listings_count', 'host_verifications', 'host_has_profile_pic', 'host_identity_verified']]\n",
    "\n",
    "print(f'Number of unique hosts: {super_hosts.host_id.nunique()}')"
   ],
   "metadata": {
    "collapsed": false,
    "pycharm": {
     "name": "#%%\n"
    }
   }
  },
  {
   "cell_type": "markdown",
   "source": [
    "### How long does it take to become a super host?"
   ],
   "metadata": {
    "collapsed": false
   }
  },
  {
   "cell_type": "code",
   "execution_count": 39,
   "outputs": [
    {
     "data": {
      "text/plain": "1       3\n6       4\n7       4\n9       3\n10      6\n       ..\n3796    4\n3801    2\n3804    5\n3806    3\n3812    4\nName: year_active, Length: 778, dtype: int64"
     },
     "execution_count": 39,
     "metadata": {},
     "output_type": "execute_result"
    }
   ],
   "source": [
    "max_date = pd.to_datetime('2016-01-04')\n",
    "super_hosts['year_active'] = max_date.year - super_hosts['host_since'].dt.year\n",
    "super_hosts['year_active']"
   ],
   "metadata": {
    "collapsed": false,
    "pycharm": {
     "name": "#%%\n"
    }
   }
  },
  {
   "cell_type": "code",
   "execution_count": 42,
   "outputs": [
    {
     "ename": "AttributeError",
     "evalue": "'Rectangle' object has no property 'title'",
     "output_type": "error",
     "traceback": [
      "\u001B[1;31m---------------------------------------------------------------------------\u001B[0m",
      "\u001B[1;31mAttributeError\u001B[0m                            Traceback (most recent call last)",
      "Input \u001B[1;32mIn [42]\u001B[0m, in \u001B[0;36m<cell line: 1>\u001B[1;34m()\u001B[0m\n\u001B[1;32m----> 1\u001B[0m \u001B[43msns\u001B[49m\u001B[38;5;241;43m.\u001B[39;49m\u001B[43mcountplot\u001B[49m\u001B[43m(\u001B[49m\u001B[43mdata\u001B[49m\u001B[38;5;241;43m=\u001B[39;49m\u001B[43msuper_hosts\u001B[49m\u001B[43m,\u001B[49m\u001B[43m \u001B[49m\u001B[43mx\u001B[49m\u001B[38;5;241;43m=\u001B[39;49m\u001B[38;5;124;43m'\u001B[39;49m\u001B[38;5;124;43myear_active\u001B[39;49m\u001B[38;5;124;43m'\u001B[39;49m\u001B[43m,\u001B[49m\u001B[43m \u001B[49m\u001B[43mtitle\u001B[49m\u001B[38;5;241;43m=\u001B[39;49m\u001B[38;5;124;43m'\u001B[39;49m\u001B[38;5;124;43mSuper-hosts\u001B[39;49m\u001B[38;5;124;43m'\u001B[39;49m\u001B[43m)\u001B[49m\n",
      "File \u001B[1;32m~\\miniconda3\\lib\\site-packages\\seaborn\\_decorators.py:46\u001B[0m, in \u001B[0;36m_deprecate_positional_args.<locals>.inner_f\u001B[1;34m(*args, **kwargs)\u001B[0m\n\u001B[0;32m     36\u001B[0m     warnings\u001B[38;5;241m.\u001B[39mwarn(\n\u001B[0;32m     37\u001B[0m         \u001B[38;5;124m\"\u001B[39m\u001B[38;5;124mPass the following variable\u001B[39m\u001B[38;5;132;01m{}\u001B[39;00m\u001B[38;5;124m as \u001B[39m\u001B[38;5;132;01m{}\u001B[39;00m\u001B[38;5;124mkeyword arg\u001B[39m\u001B[38;5;132;01m{}\u001B[39;00m\u001B[38;5;124m: \u001B[39m\u001B[38;5;132;01m{}\u001B[39;00m\u001B[38;5;124m. \u001B[39m\u001B[38;5;124m\"\u001B[39m\n\u001B[0;32m     38\u001B[0m         \u001B[38;5;124m\"\u001B[39m\u001B[38;5;124mFrom version 0.12, the only valid positional argument \u001B[39m\u001B[38;5;124m\"\u001B[39m\n\u001B[1;32m   (...)\u001B[0m\n\u001B[0;32m     43\u001B[0m         \u001B[38;5;167;01mFutureWarning\u001B[39;00m\n\u001B[0;32m     44\u001B[0m     )\n\u001B[0;32m     45\u001B[0m kwargs\u001B[38;5;241m.\u001B[39mupdate({k: arg \u001B[38;5;28;01mfor\u001B[39;00m k, arg \u001B[38;5;129;01min\u001B[39;00m \u001B[38;5;28mzip\u001B[39m(sig\u001B[38;5;241m.\u001B[39mparameters, args)})\n\u001B[1;32m---> 46\u001B[0m \u001B[38;5;28;01mreturn\u001B[39;00m f(\u001B[38;5;241m*\u001B[39m\u001B[38;5;241m*\u001B[39mkwargs)\n",
      "File \u001B[1;32m~\\miniconda3\\lib\\site-packages\\seaborn\\categorical.py:3610\u001B[0m, in \u001B[0;36mcountplot\u001B[1;34m(x, y, hue, data, order, hue_order, orient, color, palette, saturation, dodge, ax, **kwargs)\u001B[0m\n\u001B[0;32m   3607\u001B[0m \u001B[38;5;28;01mif\u001B[39;00m ax \u001B[38;5;129;01mis\u001B[39;00m \u001B[38;5;28;01mNone\u001B[39;00m:\n\u001B[0;32m   3608\u001B[0m     ax \u001B[38;5;241m=\u001B[39m plt\u001B[38;5;241m.\u001B[39mgca()\n\u001B[1;32m-> 3610\u001B[0m \u001B[43mplotter\u001B[49m\u001B[38;5;241;43m.\u001B[39;49m\u001B[43mplot\u001B[49m\u001B[43m(\u001B[49m\u001B[43max\u001B[49m\u001B[43m,\u001B[49m\u001B[43m \u001B[49m\u001B[43mkwargs\u001B[49m\u001B[43m)\u001B[49m\n\u001B[0;32m   3611\u001B[0m \u001B[38;5;28;01mreturn\u001B[39;00m ax\n",
      "File \u001B[1;32m~\\miniconda3\\lib\\site-packages\\seaborn\\categorical.py:1639\u001B[0m, in \u001B[0;36m_BarPlotter.plot\u001B[1;34m(self, ax, bar_kws)\u001B[0m\n\u001B[0;32m   1637\u001B[0m \u001B[38;5;28;01mdef\u001B[39;00m \u001B[38;5;21mplot\u001B[39m(\u001B[38;5;28mself\u001B[39m, ax, bar_kws):\n\u001B[0;32m   1638\u001B[0m     \u001B[38;5;124;03m\"\"\"Make the plot.\"\"\"\u001B[39;00m\n\u001B[1;32m-> 1639\u001B[0m     \u001B[38;5;28;43mself\u001B[39;49m\u001B[38;5;241;43m.\u001B[39;49m\u001B[43mdraw_bars\u001B[49m\u001B[43m(\u001B[49m\u001B[43max\u001B[49m\u001B[43m,\u001B[49m\u001B[43m \u001B[49m\u001B[43mbar_kws\u001B[49m\u001B[43m)\u001B[49m\n\u001B[0;32m   1640\u001B[0m     \u001B[38;5;28mself\u001B[39m\u001B[38;5;241m.\u001B[39mannotate_axes(ax)\n\u001B[0;32m   1641\u001B[0m     \u001B[38;5;28;01mif\u001B[39;00m \u001B[38;5;28mself\u001B[39m\u001B[38;5;241m.\u001B[39morient \u001B[38;5;241m==\u001B[39m \u001B[38;5;124m\"\u001B[39m\u001B[38;5;124mh\u001B[39m\u001B[38;5;124m\"\u001B[39m:\n",
      "File \u001B[1;32m~\\miniconda3\\lib\\site-packages\\seaborn\\categorical.py:1604\u001B[0m, in \u001B[0;36m_BarPlotter.draw_bars\u001B[1;34m(self, ax, kws)\u001B[0m\n\u001B[0;32m   1599\u001B[0m barpos \u001B[38;5;241m=\u001B[39m np\u001B[38;5;241m.\u001B[39marange(\u001B[38;5;28mlen\u001B[39m(\u001B[38;5;28mself\u001B[39m\u001B[38;5;241m.\u001B[39mstatistic))\n\u001B[0;32m   1601\u001B[0m \u001B[38;5;28;01mif\u001B[39;00m \u001B[38;5;28mself\u001B[39m\u001B[38;5;241m.\u001B[39mplot_hues \u001B[38;5;129;01mis\u001B[39;00m \u001B[38;5;28;01mNone\u001B[39;00m:\n\u001B[0;32m   1602\u001B[0m \n\u001B[0;32m   1603\u001B[0m     \u001B[38;5;66;03m# Draw the bars\u001B[39;00m\n\u001B[1;32m-> 1604\u001B[0m     barfunc(barpos, \u001B[38;5;28mself\u001B[39m\u001B[38;5;241m.\u001B[39mstatistic, \u001B[38;5;28mself\u001B[39m\u001B[38;5;241m.\u001B[39mwidth,\n\u001B[0;32m   1605\u001B[0m             color\u001B[38;5;241m=\u001B[39m\u001B[38;5;28mself\u001B[39m\u001B[38;5;241m.\u001B[39mcolors, align\u001B[38;5;241m=\u001B[39m\u001B[38;5;124m\"\u001B[39m\u001B[38;5;124mcenter\u001B[39m\u001B[38;5;124m\"\u001B[39m, \u001B[38;5;241m*\u001B[39m\u001B[38;5;241m*\u001B[39mkws)\n\u001B[0;32m   1607\u001B[0m     \u001B[38;5;66;03m# Draw the confidence intervals\u001B[39;00m\n\u001B[0;32m   1608\u001B[0m     errcolors \u001B[38;5;241m=\u001B[39m [\u001B[38;5;28mself\u001B[39m\u001B[38;5;241m.\u001B[39merrcolor] \u001B[38;5;241m*\u001B[39m \u001B[38;5;28mlen\u001B[39m(barpos)\n",
      "File \u001B[1;32m~\\miniconda3\\lib\\site-packages\\matplotlib\\__init__.py:1412\u001B[0m, in \u001B[0;36m_preprocess_data.<locals>.inner\u001B[1;34m(ax, data, *args, **kwargs)\u001B[0m\n\u001B[0;32m   1409\u001B[0m \u001B[38;5;129m@functools\u001B[39m\u001B[38;5;241m.\u001B[39mwraps(func)\n\u001B[0;32m   1410\u001B[0m \u001B[38;5;28;01mdef\u001B[39;00m \u001B[38;5;21minner\u001B[39m(ax, \u001B[38;5;241m*\u001B[39margs, data\u001B[38;5;241m=\u001B[39m\u001B[38;5;28;01mNone\u001B[39;00m, \u001B[38;5;241m*\u001B[39m\u001B[38;5;241m*\u001B[39mkwargs):\n\u001B[0;32m   1411\u001B[0m     \u001B[38;5;28;01mif\u001B[39;00m data \u001B[38;5;129;01mis\u001B[39;00m \u001B[38;5;28;01mNone\u001B[39;00m:\n\u001B[1;32m-> 1412\u001B[0m         \u001B[38;5;28;01mreturn\u001B[39;00m func(ax, \u001B[38;5;241m*\u001B[39m\u001B[38;5;28mmap\u001B[39m(sanitize_sequence, args), \u001B[38;5;241m*\u001B[39m\u001B[38;5;241m*\u001B[39mkwargs)\n\u001B[0;32m   1414\u001B[0m     bound \u001B[38;5;241m=\u001B[39m new_sig\u001B[38;5;241m.\u001B[39mbind(ax, \u001B[38;5;241m*\u001B[39margs, \u001B[38;5;241m*\u001B[39m\u001B[38;5;241m*\u001B[39mkwargs)\n\u001B[0;32m   1415\u001B[0m     auto_label \u001B[38;5;241m=\u001B[39m (bound\u001B[38;5;241m.\u001B[39marguments\u001B[38;5;241m.\u001B[39mget(label_namer)\n\u001B[0;32m   1416\u001B[0m                   \u001B[38;5;129;01mor\u001B[39;00m bound\u001B[38;5;241m.\u001B[39mkwargs\u001B[38;5;241m.\u001B[39mget(label_namer))\n",
      "File \u001B[1;32m~\\miniconda3\\lib\\site-packages\\matplotlib\\axes\\_axes.py:2403\u001B[0m, in \u001B[0;36mAxes.bar\u001B[1;34m(self, x, height, width, bottom, align, **kwargs)\u001B[0m\n\u001B[0;32m   2394\u001B[0m \u001B[38;5;28;01mfor\u001B[39;00m l, b, w, h, c, e, lw, htch \u001B[38;5;129;01min\u001B[39;00m args:\n\u001B[0;32m   2395\u001B[0m     r \u001B[38;5;241m=\u001B[39m mpatches\u001B[38;5;241m.\u001B[39mRectangle(\n\u001B[0;32m   2396\u001B[0m         xy\u001B[38;5;241m=\u001B[39m(l, b), width\u001B[38;5;241m=\u001B[39mw, height\u001B[38;5;241m=\u001B[39mh,\n\u001B[0;32m   2397\u001B[0m         facecolor\u001B[38;5;241m=\u001B[39mc,\n\u001B[1;32m   (...)\u001B[0m\n\u001B[0;32m   2401\u001B[0m         hatch\u001B[38;5;241m=\u001B[39mhtch,\n\u001B[0;32m   2402\u001B[0m         )\n\u001B[1;32m-> 2403\u001B[0m     \u001B[43mr\u001B[49m\u001B[38;5;241;43m.\u001B[39;49m\u001B[43mupdate\u001B[49m\u001B[43m(\u001B[49m\u001B[43mkwargs\u001B[49m\u001B[43m)\u001B[49m\n\u001B[0;32m   2404\u001B[0m     r\u001B[38;5;241m.\u001B[39mget_path()\u001B[38;5;241m.\u001B[39m_interpolation_steps \u001B[38;5;241m=\u001B[39m \u001B[38;5;241m100\u001B[39m\n\u001B[0;32m   2405\u001B[0m     \u001B[38;5;28;01mif\u001B[39;00m orientation \u001B[38;5;241m==\u001B[39m \u001B[38;5;124m'\u001B[39m\u001B[38;5;124mvertical\u001B[39m\u001B[38;5;124m'\u001B[39m:\n",
      "File \u001B[1;32m~\\miniconda3\\lib\\site-packages\\matplotlib\\artist.py:1064\u001B[0m, in \u001B[0;36mArtist.update\u001B[1;34m(self, props)\u001B[0m\n\u001B[0;32m   1062\u001B[0m             func \u001B[38;5;241m=\u001B[39m \u001B[38;5;28mgetattr\u001B[39m(\u001B[38;5;28mself\u001B[39m, \u001B[38;5;124mf\u001B[39m\u001B[38;5;124m\"\u001B[39m\u001B[38;5;124mset_\u001B[39m\u001B[38;5;132;01m{\u001B[39;00mk\u001B[38;5;132;01m}\u001B[39;00m\u001B[38;5;124m\"\u001B[39m, \u001B[38;5;28;01mNone\u001B[39;00m)\n\u001B[0;32m   1063\u001B[0m             \u001B[38;5;28;01mif\u001B[39;00m \u001B[38;5;129;01mnot\u001B[39;00m callable(func):\n\u001B[1;32m-> 1064\u001B[0m                 \u001B[38;5;28;01mraise\u001B[39;00m \u001B[38;5;167;01mAttributeError\u001B[39;00m(\u001B[38;5;124mf\u001B[39m\u001B[38;5;124m\"\u001B[39m\u001B[38;5;132;01m{\u001B[39;00m\u001B[38;5;28mtype\u001B[39m(\u001B[38;5;28mself\u001B[39m)\u001B[38;5;241m.\u001B[39m\u001B[38;5;18m__name__\u001B[39m\u001B[38;5;132;01m!r}\u001B[39;00m\u001B[38;5;124m object \u001B[39m\u001B[38;5;124m\"\u001B[39m\n\u001B[0;32m   1065\u001B[0m                                      \u001B[38;5;124mf\u001B[39m\u001B[38;5;124m\"\u001B[39m\u001B[38;5;124mhas no property \u001B[39m\u001B[38;5;132;01m{\u001B[39;00mk\u001B[38;5;132;01m!r}\u001B[39;00m\u001B[38;5;124m\"\u001B[39m)\n\u001B[0;32m   1066\u001B[0m             ret\u001B[38;5;241m.\u001B[39mappend(func(v))\n\u001B[0;32m   1067\u001B[0m \u001B[38;5;28;01mif\u001B[39;00m ret:\n",
      "\u001B[1;31mAttributeError\u001B[0m: 'Rectangle' object has no property 'title'"
     ]
    },
    {
     "data": {
      "text/plain": "<Figure size 648x360 with 1 Axes>",
      "image/png": "[encoded data removed]"
     },
     "metadata": {},
     "output_type": "display_data"
    }
   ],
   "source": [
    "sns.countplot(data=super_hosts, x='year_active')\n",
    "plt.title('')"
   ],
   "metadata": {
    "collapsed": false,
    "pycharm": {
     "name": "#%%\n"
    }
   }
  },
  {
   "cell_type": "markdown",
   "source": [
    "    # Questions\n",
    "1. How long does it take to become a super host?\n",
    "2. What neighbourhoods do they locate in?\n",
    "3. How many listings do super-hosts have in comparison to the rest?\n",
    "4. What amenities do they offer?\n",
    "5. Do state locations matter?\n",
    "6. How do the super hosts select customers?\n"
   ],
   "metadata": {
    "collapsed": false
   }
  }
 ],
 "metadata": {
  "kernelspec": {
   "display_name": "Python 3",
   "language": "python",
   "name": "python3"
  },
  "language_info": {
   "codemirror_mode": {
    "name": "ipython",
    "version": 2
   },
   "file_extension": ".py",
   "mimetype": "text/x-python",
   "name": "python",
   "nbconvert_exporter": "python",
   "pygments_lexer": "ipython2",
   "version": "2.7.6"
  }
 },
 "nbformat": 4,
 "nbformat_minor": 0
}